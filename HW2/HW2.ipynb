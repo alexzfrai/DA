{
 "cells": [
  {
   "cell_type": "code",
   "execution_count": 2,
   "id": "c79877a2",
   "metadata": {},
   "outputs": [],
   "source": [
    "import requests\n",
    "import json\n",
    "from tqdm.auto import tqdm\n",
    "from collections import defaultdict\n",
    "import pickle\n",
    "import pandas as pd\n",
    "import numpy as np\n",
    "import math\n",
    "from datetime import datetime, timedelta\n",
    "import time\n",
    "import matplotlib.pyplot as plt"
   ]
  },
  {
   "cell_type": "code",
   "execution_count": 8,
   "id": "2e6e95f7",
   "metadata": {},
   "outputs": [
    {
     "name": "stdout",
     "output_type": "stream",
     "text": [
      "4031\n"
     ]
    }
   ],
   "source": [
    "sber = '3529'\n",
    "page = 1\n",
    "num_per_page = 100\n",
    "moscow = 1\n",
    "url = f'https://api.hh.ru/vacancies?employer_id={sber}&page={page}&per_page={num_per_page}'\n",
    "res = requests.get(url)\n",
    "vacancies1 = res.json()\n",
    "#Всего найдено вакансий\n",
    "All_Vac = vacancies1.get('found')\n",
    "print(All_Vac)"
   ]
  },
  {
   "cell_type": "code",
   "execution_count": 7,
   "id": "4ef7a924",
   "metadata": {},
   "outputs": [],
   "source": [
    "today = datetime.now().date()\n",
    "#date_to = str(today)\n",
    "#date_from = today + timedelta(days=-i*10)\n",
    "#a = a + timedelta(days=-30)\n",
    "#b = print(a)\\\n",
    "# i = 3\n",
    "# date_to = str(today + timedelta(days=-i*10))\n",
    "# i = i + 1\n",
    "# date_from = str(today + timedelta(days=-i*10))\n",
    "# print(date_to)\n",
    "# print(date_from)"
   ]
  },
  {
   "cell_type": "code",
   "execution_count": 9,
   "id": "bd40a909",
   "metadata": {},
   "outputs": [
    {
     "name": "stdout",
     "output_type": "stream",
     "text": [
      "4031\n"
     ]
    },
    {
     "data": {
      "application/vnd.jupyter.widget-view+json": {
       "model_id": "e04e0247b6f849bb9898ade8b61085c4",
       "version_major": 2,
       "version_minor": 0
      },
      "text/plain": [
       "  0%|          | 0/16 [00:00<?, ?it/s]"
      ]
     },
     "metadata": {},
     "output_type": "display_data"
    },
    {
     "name": "stdout",
     "output_type": "stream",
     "text": [
      "1599\n"
     ]
    },
    {
     "data": {
      "application/vnd.jupyter.widget-view+json": {
       "model_id": "45dbe11078004facb8d47178507bf282",
       "version_major": 2,
       "version_minor": 0
      },
      "text/plain": [
       "  0%|          | 0/11 [00:00<?, ?it/s]"
      ]
     },
     "metadata": {},
     "output_type": "display_data"
    },
    {
     "name": "stdout",
     "output_type": "stream",
     "text": [
      "2415\n"
     ]
    },
    {
     "data": {
      "application/vnd.jupyter.widget-view+json": {
       "model_id": "3725cbbba53a46e5a37308d011af86c7",
       "version_major": 2,
       "version_minor": 0
      },
      "text/plain": [
       "  0%|          | 0/8 [00:00<?, ?it/s]"
      ]
     },
     "metadata": {},
     "output_type": "display_data"
    },
    {
     "name": "stdout",
     "output_type": "stream",
     "text": [
      "3011\n"
     ]
    },
    {
     "data": {
      "application/vnd.jupyter.widget-view+json": {
       "model_id": "f43e4e83d9d34d52ba604a3249ec8b14",
       "version_major": 2,
       "version_minor": 0
      },
      "text/plain": [
       "  0%|          | 0/8 [00:00<?, ?it/s]"
      ]
     },
     "metadata": {},
     "output_type": "display_data"
    },
    {
     "name": "stdout",
     "output_type": "stream",
     "text": [
      "3715\n"
     ]
    },
    {
     "data": {
      "application/vnd.jupyter.widget-view+json": {
       "model_id": "0c10b873b4da413ab617757a48b02bd0",
       "version_major": 2,
       "version_minor": 0
      },
      "text/plain": [
       "  0%|          | 0/4 [00:00<?, ?it/s]"
      ]
     },
     "metadata": {},
     "output_type": "display_data"
    },
    {
     "name": "stdout",
     "output_type": "stream",
     "text": [
      "4031\n"
     ]
    }
   ],
   "source": [
    "Get_Vac = 0\n",
    "i = 0\n",
    "all_vacancy_ids = []\n",
    "url = f'https://api.hh.ru/vacancies?employer_id={sber}&page={page}&per_page={num_per_page}'\n",
    "res = requests.get(url)\n",
    "vacancies1 = res.json()\n",
    "#Всего найдено вакансий\n",
    "All_Vac = vacancies1.get('found')\n",
    "print(All_Vac)\n",
    "while (Get_Vac < All_Vac):\n",
    "    date_to = str(today + timedelta(days=-i*6))\n",
    "    i = i + 1\n",
    "    date_from = str(today + timedelta(days=-i*6))\n",
    "    publication_time = 'publication_time'\n",
    "    url = f'https://api.hh.ru/vacancies?employer_id={sber}&page={page}&per_page={num_per_page}&date_from={date_from}&date_to={date_to}&vacancy_search_order={publication_time}'\n",
    "    res = requests.get(url)\n",
    "    vacancies1 = res.json()\n",
    "    vnum  = vacancies1.get('pages')\n",
    "    for ii in tqdm(range(vnum)):\n",
    "        url = f'https://api.hh.ru/vacancies?employer_id={sber}&page={ii}&per_page={num_per_page}&date_from={date_from}&date_to={date_to}&vacancy_search_order={publication_time}'\n",
    "        res = requests.get(url)\n",
    "        vacancies = res.json()\n",
    "        vacancy_ids = [el.get('id') for el in vacancies.get('items')]\n",
    "        all_vacancy_ids.extend(vacancy_ids)\n",
    "    all_vacancy_ids1 = []\n",
    "    for x in all_vacancy_ids:\n",
    "        if x not in all_vacancy_ids1:\n",
    "            all_vacancy_ids1.append(x)\n",
    "    Get_Vac = len(all_vacancy_ids1)\n",
    "    print(Get_Vac)"
   ]
  },
  {
   "cell_type": "code",
   "execution_count": 12,
   "id": "5dbfb248",
   "metadata": {},
   "outputs": [
    {
     "data": {
      "application/vnd.jupyter.widget-view+json": {
       "model_id": "c526ba9efd8a4794a3ebd18c529e4251",
       "version_major": 2,
       "version_minor": 0
      },
      "text/plain": [
       "  0%|          | 0/4031 [00:00<?, ?it/s]"
      ]
     },
     "metadata": {},
     "output_type": "display_data"
    }
   ],
   "source": [
    "all_vacancy = []\n",
    "for ii in tqdm(all_vacancy_ids1):\n",
    "    url = f'https://api.hh.ru/vacancies/{ii}'\n",
    "    res = requests.get(url)\n",
    "    vacancies = res.json()\n",
    "    all_vacancy.append(vacancies)\n",
    "    time.sleep(0.1)"
   ]
  },
  {
   "cell_type": "code",
   "execution_count": 71,
   "id": "2d669c0e",
   "metadata": {},
   "outputs": [],
   "source": [
    "df = pd.json_normalize(all_vacancy)"
   ]
  },
  {
   "cell_type": "code",
   "execution_count": 75,
   "id": "33a12b73",
   "metadata": {},
   "outputs": [],
   "source": [
    "#Убираем столбцы и строки с Nan\n",
    "df = df.dropna(axis=0, thresh=11)\n",
    "df = df.dropna(axis=1, how='all')"
   ]
  },
  {
   "cell_type": "code",
   "execution_count": null,
   "id": "90a825ad",
   "metadata": {},
   "outputs": [],
   "source": [
    "#Переведите даты публикаций в datetime"
   ]
  },
  {
   "cell_type": "code",
   "execution_count": 80,
   "id": "528f7f37",
   "metadata": {},
   "outputs": [],
   "source": [
    "vacancy_date = df.drop(['premium', 'relations', 'response_letter_required', 'allow_messages', 'description', 'branded_description', 'accept_handicapped', 'accept_kids', 'archived', 'response_url','specializations', 'professional_roles', 'code', 'hidden','quick_responses_allowed', 'driver_license_types','accept_incomplete_resumes', 'created_at','initial_created_at', 'apply_alternate_url', 'has_test','alternate_url', 'working_days', 'working_time_intervals','working_time_modes', 'accept_temporary', 'languages','billing_type.id', 'billing_type.name', 'area.id', 'area.name','area.url', 'salary.from', 'salary.to', 'salary.currency','salary.gross', 'type.id', 'type.name', 'experience.id','experience.name', 'schedule.id', 'schedule.name', 'employment.id','employment.name', 'employer.id', 'employer.name', 'employer.url','employer.alternate_url', 'employer.logo_urls.original','employer.logo_urls.90', 'employer.logo_urls.240','employer.vacancies_url', 'employer.trusted', 'address.city','address.street', 'address.building', 'address.lat', 'address.lng','address.raw', 'address.metro.station_name', 'address.metro.line_name','address.metro.station_id', 'address.metro.line_id','address.metro.lat', 'address.metro.lng', 'address.metro_stations','immediate_redirect_url', 'test.required'], axis=1)"
   ]
  },
  {
   "cell_type": "code",
   "execution_count": 81,
   "id": "6eb6dfdf",
   "metadata": {},
   "outputs": [],
   "source": [
    "vacancy_date.published_at = pd.to_datetime(vacancy_date.published_at)"
   ]
  },
  {
   "cell_type": "code",
   "execution_count": 82,
   "id": "64591990",
   "metadata": {},
   "outputs": [],
   "source": [
    "vacancy_date['published_date'] = vacancy_date.published_at.dt.date"
   ]
  },
  {
   "cell_type": "code",
   "execution_count": 83,
   "id": "220af1f7",
   "metadata": {},
   "outputs": [],
   "source": [
    "vacancy_date = vacancy_date.drop(['published_at'], axis=1)"
   ]
  },
  {
   "cell_type": "code",
   "execution_count": 84,
   "id": "6c7aed93",
   "metadata": {},
   "outputs": [
    {
     "data": {
      "text/html": [
       "<div>\n",
       "<style scoped>\n",
       "    .dataframe tbody tr th:only-of-type {\n",
       "        vertical-align: middle;\n",
       "    }\n",
       "\n",
       "    .dataframe tbody tr th {\n",
       "        vertical-align: top;\n",
       "    }\n",
       "\n",
       "    .dataframe thead th {\n",
       "        text-align: right;\n",
       "    }\n",
       "</style>\n",
       "<table border=\"1\" class=\"dataframe\">\n",
       "  <thead>\n",
       "    <tr style=\"text-align: right;\">\n",
       "      <th></th>\n",
       "      <th>id</th>\n",
       "      <th>name</th>\n",
       "      <th>key_skills</th>\n",
       "      <th>published_date</th>\n",
       "    </tr>\n",
       "  </thead>\n",
       "  <tbody>\n",
       "    <tr>\n",
       "      <th>0</th>\n",
       "      <td>55415805</td>\n",
       "      <td>Менеджер по работе с клиентами</td>\n",
       "      <td>[]</td>\n",
       "      <td>2022-07-27</td>\n",
       "    </tr>\n",
       "    <tr>\n",
       "      <th>1</th>\n",
       "      <td>67541509</td>\n",
       "      <td>Клиентский менеджер Сбербанк Премьер</td>\n",
       "      <td>[]</td>\n",
       "      <td>2022-07-27</td>\n",
       "    </tr>\n",
       "    <tr>\n",
       "      <th>2</th>\n",
       "      <td>45790891</td>\n",
       "      <td>Менеджер по работе с ключевыми клиентами малог...</td>\n",
       "      <td>[{'name': 'Прямые продажи'}, {'name': 'Финансо...</td>\n",
       "      <td>2022-07-27</td>\n",
       "    </tr>\n",
       "    <tr>\n",
       "      <th>3</th>\n",
       "      <td>55415496</td>\n",
       "      <td>Клиентский менеджер прямых продаж</td>\n",
       "      <td>[]</td>\n",
       "      <td>2022-07-27</td>\n",
       "    </tr>\n",
       "    <tr>\n",
       "      <th>4</th>\n",
       "      <td>67349462</td>\n",
       "      <td>Старший клиентский менеджер</td>\n",
       "      <td>[]</td>\n",
       "      <td>2022-07-25</td>\n",
       "    </tr>\n",
       "    <tr>\n",
       "      <th>5</th>\n",
       "      <td>67241244</td>\n",
       "      <td>Специалист контактного центра</td>\n",
       "      <td>[]</td>\n",
       "      <td>2022-07-25</td>\n",
       "    </tr>\n",
       "    <tr>\n",
       "      <th>6</th>\n",
       "      <td>68202144</td>\n",
       "      <td>Стажер-тестировщик</td>\n",
       "      <td>[{'name': 'SQL'}, {'name': 'Функциональное тес...</td>\n",
       "      <td>2022-07-27</td>\n",
       "    </tr>\n",
       "    <tr>\n",
       "      <th>7</th>\n",
       "      <td>55889794</td>\n",
       "      <td>Финансовый консультант</td>\n",
       "      <td>[]</td>\n",
       "      <td>2022-07-27</td>\n",
       "    </tr>\n",
       "    <tr>\n",
       "      <th>8</th>\n",
       "      <td>54685410</td>\n",
       "      <td>Ведущий специалист по взысканию</td>\n",
       "      <td>[]</td>\n",
       "      <td>2022-07-25</td>\n",
       "    </tr>\n",
       "    <tr>\n",
       "      <th>9</th>\n",
       "      <td>45381514</td>\n",
       "      <td>Менеджер по привлечению корпоративных клиентов</td>\n",
       "      <td>[{'name': 'Холодные продажи'}, {'name': 'Поиск...</td>\n",
       "      <td>2022-07-26</td>\n",
       "    </tr>\n",
       "  </tbody>\n",
       "</table>\n",
       "</div>"
      ],
      "text/plain": [
       "         id                                               name  \\\n",
       "0  55415805                     Менеджер по работе с клиентами   \n",
       "1  67541509               Клиентский менеджер Сбербанк Премьер   \n",
       "2  45790891  Менеджер по работе с ключевыми клиентами малог...   \n",
       "3  55415496                  Клиентский менеджер прямых продаж   \n",
       "4  67349462                        Старший клиентский менеджер   \n",
       "5  67241244                      Специалист контактного центра   \n",
       "6  68202144                                 Стажер-тестировщик   \n",
       "7  55889794                             Финансовый консультант   \n",
       "8  54685410                    Ведущий специалист по взысканию   \n",
       "9  45381514     Менеджер по привлечению корпоративных клиентов   \n",
       "\n",
       "                                          key_skills published_date  \n",
       "0                                                 []     2022-07-27  \n",
       "1                                                 []     2022-07-27  \n",
       "2  [{'name': 'Прямые продажи'}, {'name': 'Финансо...     2022-07-27  \n",
       "3                                                 []     2022-07-27  \n",
       "4                                                 []     2022-07-25  \n",
       "5                                                 []     2022-07-25  \n",
       "6  [{'name': 'SQL'}, {'name': 'Функциональное тес...     2022-07-27  \n",
       "7                                                 []     2022-07-27  \n",
       "8                                                 []     2022-07-25  \n",
       "9  [{'name': 'Холодные продажи'}, {'name': 'Поиск...     2022-07-26  "
      ]
     },
     "execution_count": 84,
     "metadata": {},
     "output_type": "execute_result"
    }
   ],
   "source": [
    "vacancy_date.head(10)"
   ]
  },
  {
   "cell_type": "code",
   "execution_count": 85,
   "id": "4b25ea37",
   "metadata": {},
   "outputs": [],
   "source": [
    "#Постройте график опубликованных вакансий по датам"
   ]
  },
  {
   "cell_type": "code",
   "execution_count": 86,
   "id": "86a49a5b",
   "metadata": {},
   "outputs": [],
   "source": [
    "vacancy_date = vacancy_date.set_index('published_date')"
   ]
  },
  {
   "cell_type": "code",
   "execution_count": 87,
   "id": "c5dafa79",
   "metadata": {},
   "outputs": [],
   "source": [
    "vacs = vacancy_date.groupby('published_date')['id'].count().reset_index()"
   ]
  },
  {
   "cell_type": "code",
   "execution_count": 88,
   "id": "41c0602c",
   "metadata": {},
   "outputs": [
    {
     "data": {
      "image/png": "[encoded data removed]",
      "text/plain": [
       "<Figure size 432x288 with 1 Axes>"
      ]
     },
     "metadata": {
      "needs_background": "light"
     },
     "output_type": "display_data"
    }
   ],
   "source": [
    "vacs.set_index('published_date').plot(kind='bar');"
   ]
  },
  {
   "cell_type": "code",
   "execution_count": 89,
   "id": "00e4be1d",
   "metadata": {},
   "outputs": [],
   "source": [
    "#Переведите даты в дни недели, и определите день недели, в который больше всего публикуют вакансий"
   ]
  },
  {
   "cell_type": "code",
   "execution_count": 90,
   "id": "643bc9ee",
   "metadata": {},
   "outputs": [],
   "source": [
    "vacancy_date_week = vacancy_date.drop(['key_skills','name'], axis=1).reset_index()"
   ]
  },
  {
   "cell_type": "code",
   "execution_count": 91,
   "id": "8896642b",
   "metadata": {},
   "outputs": [],
   "source": [
    "vacancy_date_week['day_of_week'] = pd.to_datetime(vacancy_date_week['published_date']).dt.day_name()"
   ]
  },
  {
   "cell_type": "code",
   "execution_count": 92,
   "id": "71888a00",
   "metadata": {},
   "outputs": [
    {
     "data": {
      "text/plain": [
       "0       Wednesday\n",
       "1       Wednesday\n",
       "2       Wednesday\n",
       "3       Wednesday\n",
       "4          Monday\n",
       "          ...    \n",
       "3995       Friday\n",
       "3996     Saturday\n",
       "3997      Tuesday\n",
       "3998     Thursday\n",
       "3999     Thursday\n",
       "Name: day_of_week, Length: 4000, dtype: object"
      ]
     },
     "execution_count": 92,
     "metadata": {},
     "output_type": "execute_result"
    }
   ],
   "source": [
    "vacancy_date_week['day_of_week']"
   ]
  },
  {
   "cell_type": "code",
   "execution_count": 93,
   "id": "64f85c64",
   "metadata": {},
   "outputs": [],
   "source": [
    "vacs_day_week = vacancy_date_week.groupby('day_of_week')['id'].count().reset_index()"
   ]
  },
  {
   "cell_type": "code",
   "execution_count": 94,
   "id": "9dd428ff",
   "metadata": {},
   "outputs": [
    {
     "data": {
      "text/html": [
       "<div>\n",
       "<style scoped>\n",
       "    .dataframe tbody tr th:only-of-type {\n",
       "        vertical-align: middle;\n",
       "    }\n",
       "\n",
       "    .dataframe tbody tr th {\n",
       "        vertical-align: top;\n",
       "    }\n",
       "\n",
       "    .dataframe thead th {\n",
       "        text-align: right;\n",
       "    }\n",
       "</style>\n",
       "<table border=\"1\" class=\"dataframe\">\n",
       "  <thead>\n",
       "    <tr style=\"text-align: right;\">\n",
       "      <th></th>\n",
       "      <th>day_of_week</th>\n",
       "      <th>id</th>\n",
       "    </tr>\n",
       "  </thead>\n",
       "  <tbody>\n",
       "    <tr>\n",
       "      <th>6</th>\n",
       "      <td>Wednesday</td>\n",
       "      <td>1123</td>\n",
       "    </tr>\n",
       "  </tbody>\n",
       "</table>\n",
       "</div>"
      ],
      "text/plain": [
       "  day_of_week    id\n",
       "6   Wednesday  1123"
      ]
     },
     "execution_count": 94,
     "metadata": {},
     "output_type": "execute_result"
    }
   ],
   "source": [
    "vacs_day_week.loc[vacs_day_week['id'] == vacs_day_week['id'].max()]"
   ]
  },
  {
   "cell_type": "code",
   "execution_count": 95,
   "id": "c960f592",
   "metadata": {},
   "outputs": [
    {
     "data": {
      "image/png": "[encoded data removed]",
      "text/plain": [
       "<Figure size 432x288 with 1 Axes>"
      ]
     },
     "metadata": {
      "needs_background": "light"
     },
     "output_type": "display_data"
    }
   ],
   "source": [
    "vacs_day_week.set_index('day_of_week').plot(kind='bar');"
   ]
  },
  {
   "cell_type": "code",
   "execution_count": 122,
   "id": "532ca185",
   "metadata": {},
   "outputs": [],
   "source": [
    "#Преобразуем key_skills в строку"
   ]
  },
  {
   "cell_type": "code",
   "execution_count": 123,
   "id": "00129373",
   "metadata": {},
   "outputs": [],
   "source": [
    "df1 = vacancy_date.reset_index()"
   ]
  },
  {
   "cell_type": "code",
   "execution_count": 124,
   "id": "51b16a13",
   "metadata": {},
   "outputs": [],
   "source": [
    "slist4= (df1.key_skills).to_list()"
   ]
  },
  {
   "cell_type": "code",
   "execution_count": 209,
   "id": "81cb8558",
   "metadata": {},
   "outputs": [],
   "source": [
    "slist3 = []\n",
    "for lns in slist4:\n",
    "    el = [x.get('name') for x in lns]\n",
    "    slist3.append(\",\".join(el))    "
   ]
  },
  {
   "cell_type": "code",
   "execution_count": 210,
   "id": "2d48c616",
   "metadata": {},
   "outputs": [],
   "source": [
    "sskils = pd.Series(slist3)"
   ]
  },
  {
   "cell_type": "code",
   "execution_count": 211,
   "id": "4f6666eb",
   "metadata": {},
   "outputs": [],
   "source": [
    "df1['skils'] = sskils"
   ]
  },
  {
   "cell_type": "code",
   "execution_count": 212,
   "id": "b86cdcbd",
   "metadata": {},
   "outputs": [],
   "source": [
    "vac_skills = df1.drop(['key_skills'], axis=1)"
   ]
  },
  {
   "cell_type": "code",
   "execution_count": 213,
   "id": "cedacd43",
   "metadata": {},
   "outputs": [],
   "source": [
    "#Найдите те вакансии с использованием python, которые вам интересны"
   ]
  },
  {
   "cell_type": "code",
   "execution_count": 214,
   "id": "42c97570",
   "metadata": {},
   "outputs": [],
   "source": [
    "python_s = 'python'\n",
    "ps1 = vac_skills.skils.str.lower().str.contains(python_s)"
   ]
  },
  {
   "cell_type": "code",
   "execution_count": 215,
   "id": "ad9da3b1",
   "metadata": {},
   "outputs": [],
   "source": [
    "vacancy_interest = vac_skills[ps1]"
   ]
  },
  {
   "cell_type": "code",
   "execution_count": 216,
   "id": "29450f14",
   "metadata": {},
   "outputs": [
    {
     "data": {
      "text/html": [
       "<div>\n",
       "<style scoped>\n",
       "    .dataframe tbody tr th:only-of-type {\n",
       "        vertical-align: middle;\n",
       "    }\n",
       "\n",
       "    .dataframe tbody tr th {\n",
       "        vertical-align: top;\n",
       "    }\n",
       "\n",
       "    .dataframe thead th {\n",
       "        text-align: right;\n",
       "    }\n",
       "</style>\n",
       "<table border=\"1\" class=\"dataframe\">\n",
       "  <thead>\n",
       "    <tr style=\"text-align: right;\">\n",
       "      <th></th>\n",
       "      <th>published_date</th>\n",
       "      <th>id</th>\n",
       "      <th>name</th>\n",
       "      <th>skils</th>\n",
       "    </tr>\n",
       "  </thead>\n",
       "  <tbody>\n",
       "    <tr>\n",
       "      <th>34</th>\n",
       "      <td>2022-07-25</td>\n",
       "      <td>68125720</td>\n",
       "      <td>Аналитик данных</td>\n",
       "      <td>Python,SCALA,Big Data,SQL,Java</td>\n",
       "    </tr>\n",
       "    <tr>\n",
       "      <th>73</th>\n",
       "      <td>2022-07-25</td>\n",
       "      <td>68123813</td>\n",
       "      <td>Дата аналитик</td>\n",
       "      <td>SQL,Python</td>\n",
       "    </tr>\n",
       "    <tr>\n",
       "      <th>106</th>\n",
       "      <td>2022-07-26</td>\n",
       "      <td>68148229</td>\n",
       "      <td>Data Scientist (SberDevices)</td>\n",
       "      <td>PyTorch,Tensorflow,Python,Deep Learning,NLP</td>\n",
       "    </tr>\n",
       "    <tr>\n",
       "      <th>191</th>\n",
       "      <td>2022-07-26</td>\n",
       "      <td>68161138</td>\n",
       "      <td>QA инженер (Рекомендательная платформа)</td>\n",
       "      <td>Python,Git,SQL,QA</td>\n",
       "    </tr>\n",
       "    <tr>\n",
       "      <th>221</th>\n",
       "      <td>2022-07-25</td>\n",
       "      <td>68115103</td>\n",
       "      <td>Data Scientist</td>\n",
       "      <td>Python,Hadoop,Spark,SQL,Docker</td>\n",
       "    </tr>\n",
       "    <tr>\n",
       "      <th>...</th>\n",
       "      <td>...</td>\n",
       "      <td>...</td>\n",
       "      <td>...</td>\n",
       "      <td>...</td>\n",
       "    </tr>\n",
       "    <tr>\n",
       "      <th>3973</th>\n",
       "      <td>2022-06-28</td>\n",
       "      <td>67300025</td>\n",
       "      <td>DevOps инженер</td>\n",
       "      <td>Linux,Git,Jenkins,Java,Python</td>\n",
       "    </tr>\n",
       "    <tr>\n",
       "      <th>3987</th>\n",
       "      <td>2022-06-29</td>\n",
       "      <td>67343184</td>\n",
       "      <td>MLOps Engineer в области рекомендательных систем</td>\n",
       "      <td>Python,Git,SQL,PostgreSQL,Atlassian Jira,PyTor...</td>\n",
       "    </tr>\n",
       "    <tr>\n",
       "      <th>3989</th>\n",
       "      <td>2022-06-29</td>\n",
       "      <td>67325371</td>\n",
       "      <td>DevOps-инженер (система Поток Продаж)</td>\n",
       "      <td>Python,Git,Linux,PostgreSQL,SQL</td>\n",
       "    </tr>\n",
       "    <tr>\n",
       "      <th>3993</th>\n",
       "      <td>2022-06-30</td>\n",
       "      <td>49792719</td>\n",
       "      <td>DevOps инженер собственной сборки</td>\n",
       "      <td>Python,Linux,Atlassian Jira,Atlassian Confluen...</td>\n",
       "    </tr>\n",
       "    <tr>\n",
       "      <th>3997</th>\n",
       "      <td>2022-06-28</td>\n",
       "      <td>67288841</td>\n",
       "      <td>Разработчик AirFlow</td>\n",
       "      <td>Python,Git,JavaScript,Linux,Spark</td>\n",
       "    </tr>\n",
       "  </tbody>\n",
       "</table>\n",
       "<p>172 rows × 4 columns</p>\n",
       "</div>"
      ],
      "text/plain": [
       "     published_date        id  \\\n",
       "34       2022-07-25  68125720   \n",
       "73       2022-07-25  68123813   \n",
       "106      2022-07-26  68148229   \n",
       "191      2022-07-26  68161138   \n",
       "221      2022-07-25  68115103   \n",
       "...             ...       ...   \n",
       "3973     2022-06-28  67300025   \n",
       "3987     2022-06-29  67343184   \n",
       "3989     2022-06-29  67325371   \n",
       "3993     2022-06-30  49792719   \n",
       "3997     2022-06-28  67288841   \n",
       "\n",
       "                                                  name  \\\n",
       "34                                     Аналитик данных   \n",
       "73                                       Дата аналитик   \n",
       "106                       Data Scientist (SberDevices)   \n",
       "191            QA инженер (Рекомендательная платформа)   \n",
       "221                                     Data Scientist   \n",
       "...                                                ...   \n",
       "3973                                    DevOps инженер   \n",
       "3987  MLOps Engineer в области рекомендательных систем   \n",
       "3989             DevOps-инженер (система Поток Продаж)   \n",
       "3993                 DevOps инженер собственной сборки   \n",
       "3997                               Разработчик AirFlow   \n",
       "\n",
       "                                                  skils  \n",
       "34                       Python,SCALA,Big Data,SQL,Java  \n",
       "73                                           SQL,Python  \n",
       "106         PyTorch,Tensorflow,Python,Deep Learning,NLP  \n",
       "191                                   Python,Git,SQL,QA  \n",
       "221                      Python,Hadoop,Spark,SQL,Docker  \n",
       "...                                                 ...  \n",
       "3973                      Linux,Git,Jenkins,Java,Python  \n",
       "3987  Python,Git,SQL,PostgreSQL,Atlassian Jira,PyTor...  \n",
       "3989                    Python,Git,Linux,PostgreSQL,SQL  \n",
       "3993  Python,Linux,Atlassian Jira,Atlassian Confluen...  \n",
       "3997                  Python,Git,JavaScript,Linux,Spark  \n",
       "\n",
       "[172 rows x 4 columns]"
      ]
     },
     "execution_count": 216,
     "metadata": {},
     "output_type": "execute_result"
    }
   ],
   "source": [
    "vacancy_interest"
   ]
  },
  {
   "cell_type": "code",
   "execution_count": 217,
   "id": "4d878825",
   "metadata": {},
   "outputs": [],
   "source": [
    "#Определите по полю skills какие навыки больше всего востребованы для этих вакансий"
   ]
  },
  {
   "cell_type": "code",
   "execution_count": 218,
   "id": "ae402635",
   "metadata": {},
   "outputs": [],
   "source": [
    "slist2= (vacancy_interest.skils).to_list()"
   ]
  },
  {
   "cell_type": "code",
   "execution_count": 220,
   "id": "7867c970",
   "metadata": {},
   "outputs": [],
   "source": [
    "slist3 = []\n",
    "for lns in slist2:\n",
    "        for el in lns.split(','):\n",
    "            slist3.append(el)"
   ]
  },
  {
   "cell_type": "code",
   "execution_count": 221,
   "id": "1b98d4fb",
   "metadata": {},
   "outputs": [],
   "source": [
    "df2_skills = pd.DataFrame({'skills': slist3})"
   ]
  },
  {
   "cell_type": "code",
   "execution_count": 222,
   "id": "467880eb",
   "metadata": {},
   "outputs": [],
   "source": [
    "df2_skills['repeat'] = 1"
   ]
  },
  {
   "cell_type": "code",
   "execution_count": 223,
   "id": "b5338d36",
   "metadata": {},
   "outputs": [],
   "source": [
    "Python_Skills = df2_skills.groupby('skills')['repeat'].count().reset_index()"
   ]
  },
  {
   "cell_type": "code",
   "execution_count": 224,
   "id": "cb65fa2c",
   "metadata": {},
   "outputs": [
    {
     "data": {
      "image/png": "[encoded data removed]",
      "text/plain": [
       "<Figure size 432x288 with 1 Axes>"
      ]
     },
     "metadata": {
      "needs_background": "light"
     },
     "output_type": "display_data"
    }
   ],
   "source": [
    "#Наиборее востребованные навыки для вакансий с python\n",
    "Python_Skills.nlargest(15, 'repeat').set_index('skills').plot(kind='barh');"
   ]
  },
  {
   "cell_type": "code",
   "execution_count": 225,
   "id": "4ead4e87",
   "metadata": {},
   "outputs": [],
   "source": [
    "#Все вакансии датааналитика\n",
    "ta1 = vac_skills.name.str.lower().str.contains('data')\n",
    "ta11 = vac_skills.name.str.lower().str.contains('дата')\n",
    "ta2 = vac_skills.name.str.lower().str.contains('аналитик')\n",
    "ta22 = vac_skills.name.str.lower().str.contains('analyst')"
   ]
  },
  {
   "cell_type": "code",
   "execution_count": 226,
   "id": "d6b68201",
   "metadata": {},
   "outputs": [],
   "source": [
    "#Постройте график наиболее востребованных навыков для аналитика данных\n",
    "vac_DA = vac_skills[(ta1|ta11)&(ta22|ta2)]"
   ]
  },
  {
   "cell_type": "code",
   "execution_count": 228,
   "id": "9769869a",
   "metadata": {},
   "outputs": [],
   "source": [
    "slist2= (vac_DA.skils).to_list()"
   ]
  },
  {
   "cell_type": "code",
   "execution_count": 237,
   "id": "a9db8c51",
   "metadata": {},
   "outputs": [],
   "source": [
    "slist3 = []\n",
    "for lns in slist2:\n",
    "    if len(lns)!=0:\n",
    "        for el in lns.split(','):\n",
    "            slist3.append(el)"
   ]
  },
  {
   "cell_type": "code",
   "execution_count": 238,
   "id": "6f55e287",
   "metadata": {},
   "outputs": [],
   "source": [
    "df2 = pd.DataFrame({'skills': slist3})"
   ]
  },
  {
   "cell_type": "code",
   "execution_count": 239,
   "id": "ae4398fd",
   "metadata": {},
   "outputs": [],
   "source": [
    "df2['repeat'] = 1"
   ]
  },
  {
   "cell_type": "code",
   "execution_count": 240,
   "id": "cf74e91f",
   "metadata": {},
   "outputs": [],
   "source": [
    "DA_Skills = df2.groupby('skills')['repeat'].count().reset_index()"
   ]
  },
  {
   "cell_type": "code",
   "execution_count": 241,
   "id": "af9b310f",
   "metadata": {},
   "outputs": [
    {
     "data": {
      "image/png": "[encoded data removed]",
      "text/plain": [
       "<Figure size 432x288 with 1 Axes>"
      ]
     },
     "metadata": {
      "needs_background": "light"
     },
     "output_type": "display_data"
    }
   ],
   "source": [
    "#Наиборее востребованные навыки для DA\n",
    "DA_Skills.nlargest(10, 'repeat').set_index('skills').plot(kind='barh');"
   ]
  }
 ],
 "metadata": {
  "kernelspec": {
   "display_name": "Python 3 (ipykernel)",
   "language": "python",
   "name": "python3"
  },
  "language_info": {
   "codemirror_mode": {
    "name": "ipython",
    "version": 3
   },
   "file_extension": ".py",
   "mimetype": "text/x-python",
   "name": "python",
   "nbconvert_exporter": "python",
   "pygments_lexer": "ipython3",
   "version": "3.9.12"
  }
 },
 "nbformat": 4,
 "nbformat_minor": 5
}
