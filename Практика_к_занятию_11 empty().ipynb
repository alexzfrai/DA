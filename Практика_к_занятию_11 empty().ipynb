{
 "cells": [
  {
   "cell_type": "markdown",
   "metadata": {
    "id": "pDrecLU-4QjS"
   },
   "source": [
    "# Практика"
   ]
  },
  {
   "cell_type": "markdown",
   "metadata": {
    "id": "gUvTNDlMaV-a"
   },
   "source": [
    "## Определение вероятности. События\n",
    "\n",
    "Требуется сгенерировать необходимые выборки и произвести по ним расчеты"
   ]
  },
  {
   "cell_type": "markdown",
   "metadata": {
    "id": "5V70InEBTgup"
   },
   "source": [
    "### Задача 1\n",
    "Брошено две монеты. Найти вероятность того, что монеты выпали разными сторонами"
   ]
  },
  {
   "cell_type": "code",
   "execution_count": 435,
   "metadata": {},
   "outputs": [],
   "source": [
    "import pandas as pd\n",
    "import numpy as np\n",
    "import matplotlib.pyplot as plt\n",
    "import random\n",
    "import scipy.stats as sts\n",
    "%matplotlib inline\n",
    "\n",
    "import warnings\n",
    "warnings.filterwarnings('ignore')"
   ]
  },
  {
   "cell_type": "code",
   "execution_count": 436,
   "metadata": {
    "id": "88Iw-SL3jYQV"
   },
   "outputs": [
    {
     "name": "stdout",
     "output_type": "stream",
     "text": [
      "Вероятность того, что монеты выпали разными сторонами  0.496\n"
     ]
    }
   ],
   "source": [
    "n = 1000 \n",
    "elements = [\"O\", \"R\"]\n",
    "probabilities = [0.5, 0.5]\n",
    "A=[]\n",
    "for i in range(n):\n",
    "    A.append(np.random.choice(elements, 2, p=probabilities))  \n",
    "df = pd.DataFrame(A)\n",
    "df[\"res\"] = df.loc[:, :].eq(\"O\").sum(axis=1)\n",
    "R = (df[df[\"res\"] == 1])[\"res\"].count()\n",
    "print(\"Вероятность того, что монеты выпали разными сторонами \", R/n)"
   ]
  },
  {
   "cell_type": "markdown",
   "metadata": {
    "id": "t0XOMos2Tl0e"
   },
   "source": [
    "### Задача 2\n",
    "Брошено три монеты. Описать множество всех элементарных событий. Найти вероятности следующих событий:\n",
    "\n",
    "\n",
    "1.   A = {не выпало ни одного герба}\n",
    "2.   B = {выпало четное число гербов}\n",
    "3.   C = {на третьей монете выпал герб}\n"
   ]
  },
  {
   "cell_type": "code",
   "execution_count": 437,
   "metadata": {
    "id": "o7NjAE9uUo-L"
   },
   "outputs": [
    {
     "name": "stdout",
     "output_type": "stream",
     "text": [
      "Вероятность того, что не выпало ни одного герба  0.1232\n",
      "Вероятность того, что выпало четное число гербов  0.3837\n",
      "Вероятность того, что на третьей монете выпал герб  0.5057\n",
      "множество элементарных событий      0  1  2  res\n",
      "0   R  O  R    1\n",
      "2   R  R  R    0\n",
      "3   O  O  O    3\n",
      "4   O  O  R    2\n",
      "8   O  R  O    2\n",
      "10  O  R  R    1\n",
      "20  R  O  O    2\n",
      "21  R  R  O    1\n"
     ]
    }
   ],
   "source": [
    "n = 10000\n",
    "elements = [\"O\", \"R\"]\n",
    "probabilities = [0.5, 0.5]\n",
    "V=[]\n",
    "for i in range(n):\n",
    "    V.append(np.random.choice(elements, 3, p=probabilities))  \n",
    "df = pd.DataFrame(V)\n",
    "df[\"res\"] = df.loc[:, :].eq(\"O\").sum(axis=1)\n",
    "#print(df)\n",
    "A = (df[df[\"res\"] == 0])[\"res\"].count()\n",
    "B = (df[df[\"res\"] == 2])[\"res\"].count()\n",
    "C = (df[df[2] == \"O\"])[2].count() \n",
    "print(\"Вероятность того, что не выпало ни одного герба \", A/n)\n",
    "print(\"Вероятность того, что выпало четное число гербов \", B/n)\n",
    "print(\"Вероятность того, что на третьей монете выпал герб \", C/n)\n",
    "print(\"множество элементарных событий \",df.drop_duplicates())"
   ]
  },
  {
   "cell_type": "markdown",
   "metadata": {},
   "source": [
    "Предлагается также решить задачи: \n",
    "\n",
    "### Задача 3\n",
    "Из двух претендентов E и L на ответственную должность три члена комиссии должны отобрать одного. Каждый член комиссии должен указать либо одного достойного, либо забраковать обоих. Претендент считается выбранным, если он был признана достойным хотя бы двумя членами комиссии.\n",
    "Найти вероятность событий:\n",
    "\n",
    "A = {рекомендован L}, B = {рекомендован E}\n"
   ]
  },
  {
   "cell_type": "code",
   "execution_count": 438,
   "metadata": {},
   "outputs": [
    {
     "name": "stdout",
     "output_type": "stream",
     "text": [
      "Вероятность того, что рекомендован L  0.247\n",
      "Вероятность того, что рекомендован E  0.264\n"
     ]
    }
   ],
   "source": [
    "n = 1000\n",
    "elements = [\"L\", \"E\",\"O\"]\n",
    "probabilities = [1/3, 1/3,1/3]\n",
    "V=[]\n",
    "for i in range(n):\n",
    "    V.append(np.random.choice(elements, 3, p=probabilities))  \n",
    "df = pd.DataFrame(V)\n",
    "A = (df[df.loc[:, :].eq(\"L\").sum(axis=1) >= 2])[1].count()\n",
    "B = (df[df.loc[:, :].eq(\"E\").sum(axis=1) >= 2])[1].count()\n",
    "print(\"Вероятность того, что рекомендован L \", A/n)\n",
    "print(\"Вероятность того, что рекомендован E \", B/n)"
   ]
  },
  {
   "cell_type": "markdown",
   "metadata": {
    "id": "peM38mVfYa5B"
   },
   "source": [
    "### Задача 4\n",
    "Брошено две игральных кости. Описать множество элементарных событий. Найти вероятности событий:\n",
    "\n",
    "A = {вышло две \"шестерки\"}\n",
    "\n",
    "B = {сумма выпавших очков не меньше 11}\n",
    "\n",
    "C = {не выпала ни одна \"шестерка\"}"
   ]
  },
  {
   "cell_type": "code",
   "execution_count": 439,
   "metadata": {},
   "outputs": [
    {
     "name": "stdout",
     "output_type": "stream",
     "text": [
      "Вероятность того, что вышло две шестерки  0.2715\n",
      "Вероятность того, что сумма выпавших очков не меньше 11  0.0803\n",
      "Вероятность того, что не выпала ни одна шестерка  0.7018\n",
      "множество элементарных событий       0  1\n",
      "0    1  6\n",
      "1    6  3\n",
      "2    1  4\n",
      "3    4  4\n",
      "4    6  2\n",
      "5    6  4\n",
      "6    6  5\n",
      "7    5  6\n",
      "8    4  2\n",
      "9    5  3\n",
      "10   1  1\n",
      "11   5  1\n",
      "12   1  3\n",
      "13   4  6\n",
      "14   4  3\n",
      "15   5  2\n",
      "16   3  6\n",
      "17   6  1\n",
      "18   3  4\n",
      "19   6  6\n",
      "22   3  3\n",
      "23   2  4\n",
      "24   2  3\n",
      "26   1  2\n",
      "27   2  5\n",
      "29   1  5\n",
      "37   3  5\n",
      "38   4  1\n",
      "45   3  2\n",
      "47   5  5\n",
      "58   3  1\n",
      "59   2  2\n",
      "77   2  6\n",
      "82   2  1\n",
      "127  4  5\n",
      "159  5  4\n"
     ]
    }
   ],
   "source": [
    "n = 10000\n",
    "V=[]\n",
    "for i in range(n):\n",
    "    V.append(np.random.choice(range(1,7), 2))  \n",
    "df = pd.DataFrame(V)\n",
    "df\n",
    "A = (df[df.loc[:, :].eq(6).sum(axis=1) == 1])[1].count()\n",
    "B = (df[df.loc[:, :].sum(axis=1) >= 11])[1].count()\n",
    "C = (df[df.loc[:, :].eq(6).sum(axis=1) == 0])[1].count() \n",
    "print(\"Вероятность того, что вышло две шестерки \", A/n)\n",
    "print(\"Вероятность того, что сумма выпавших очков не меньше 11 \", B/n)\n",
    "print(\"Вероятность того, что не выпала ни одна шестерка \", C/n)\n",
    "print(\"множество элементарных событий \",df.drop_duplicates())"
   ]
  },
  {
   "cell_type": "markdown",
   "metadata": {
    "id": "f-Bi0p8haclB"
   },
   "source": [
    "## Вероятность суммы событий"
   ]
  },
  {
   "cell_type": "markdown",
   "metadata": {
    "id": "g7A7QlvGTnwZ"
   },
   "source": [
    "### Задача 5\n",
    "Брошены две игральные кости. Найти вероятность события D = {выпала хотя бы одна шестёрка}\n"
   ]
  },
  {
   "cell_type": "code",
   "execution_count": 440,
   "metadata": {
    "id": "vjtTJN-kUp9D"
   },
   "outputs": [
    {
     "name": "stdout",
     "output_type": "stream",
     "text": [
      "Вероятность того, что выпала хотя бы одна шестёрка  0.30733\n"
     ]
    }
   ],
   "source": [
    "n = 100000\n",
    "V=[]\n",
    "for i in range(n):\n",
    "    V.append(np.random.choice(range(1,7), 2))  \n",
    "df = pd.DataFrame(V)\n",
    "df\n",
    "D = (df[df.loc[:, :].eq(6).sum(axis=1) >= 1])[1].count()\n",
    "print(\"Вероятность того, что выпала хотя бы одна шестёрка \", D/n)"
   ]
  },
  {
   "cell_type": "markdown",
   "metadata": {
    "id": "R1bYSzQQbC6I"
   },
   "source": [
    "Предлагается также решить задачи: \n",
    "\n",
    "### Задача 6\n",
    "В телефонном номере три последние цифры стерлись. Считая, что все возможные значения стершихся цифр равновероятны, найти вероятность событий:\n",
    "\n",
    "A = {Стерлись различные цифры},\n",
    "\n",
    "B = {Стерлись одинаковые цифры},\n",
    "\n",
    "C = {Среди стершихся цифр хотя бы две совпадают},\n",
    "\n",
    "D = {Среди стершихся цифр хотя бы две различны}\n"
   ]
  },
  {
   "cell_type": "code",
   "execution_count": 441,
   "metadata": {},
   "outputs": [
    {
     "name": "stdout",
     "output_type": "stream",
     "text": [
      "Вероятность того, что Стерлись различные цифры  0.7129\n",
      "Вероятность того, что Стерлись одинаковые цифры  0.0097\n",
      "Вероятность того, что Среди стершихся цифр хотя бы две совпадают  0.287\n",
      "Вероятность того, что Среди стершихся цифр хотя бы две различны  0.99\n"
     ]
    }
   ],
   "source": [
    "n = 10000\n",
    "V=[]\n",
    "for i in range(n):\n",
    "    V.append(np.random.choice(range(0,10), 3))  \n",
    "df = pd.DataFrame(V)\n",
    "df\n",
    "A = (df.loc[(df[0] != df[1]) & (df[1] != df[2]) & (df[0] != df[2])])[1].count()\n",
    "B = (df.loc[(df[0] == df[1]) & (df[1] == df[2]) & (df[0] == df[2])])[1].count()\n",
    "C = round(1 - A/n,3)\n",
    "D = round(1 - B/n,3)\n",
    "print(\"Вероятность того, что Стерлись различные цифры \", A/n)\n",
    "print(\"Вероятность того, что Стерлись одинаковые цифры \", B/n)\n",
    "print(\"Вероятность того, что Среди стершихся цифр хотя бы две совпадают \", C)\n",
    "print(\"Вероятность того, что Среди стершихся цифр хотя бы две различны \", D)"
   ]
  },
  {
   "cell_type": "markdown",
   "metadata": {
    "id": "RnugkR8BalK_"
   },
   "source": [
    "## Случайные величины"
   ]
  },
  {
   "cell_type": "markdown",
   "metadata": {
    "id": "yLoZDZ17UVsp"
   },
   "source": [
    "### Задача 7\n",
    "В лотерее имеется 10 билетов, из которых один выигрышный. Размер выигрыша 10 ден. ед.; стоимость билета 1 ден ед. Найти закон распределения случайной величины X, равной чистому выигрышу участника лотереи, который вытаскивает билет первым."
   ]
  },
  {
   "cell_type": "code",
   "execution_count": 442,
   "metadata": {},
   "outputs": [
    {
     "data": {
      "text/plain": [
       "array([0, 1, 0, 0, 1, 0, 0, 0, 0, 0])"
      ]
     },
     "execution_count": 442,
     "metadata": {},
     "output_type": "execute_result"
    }
   ],
   "source": [
    "bernoulli_rv = sts.bernoulli(0.1) # задаётся один параметр -- вероятность успеха\n",
    "\n",
    "bernoulli_rv.rvs(10)"
   ]
  },
  {
   "cell_type": "code",
   "execution_count": 443,
   "metadata": {},
   "outputs": [
    {
     "data": {
      "text/plain": [
       "[]"
      ]
     },
     "execution_count": 443,
     "metadata": {},
     "output_type": "execute_result"
    },
    {
     "data": {
      "image/png": "[encoded data removed]",
      "text/plain": [
       "<Figure size 432x288 with 1 Axes>"
      ]
     },
     "metadata": {
      "needs_background": "light"
     },
     "output_type": "display_data"
    }
   ],
   "source": [
    "x = np.linspace(-1,9,num=20)\n",
    "cdf = bernoulli_rv.cdf(x) # вернёт массив из значений функции распределения\n",
    "plt.plot(x, cdf, color=\"darkblue\")\n",
    "plt.ylabel(\"$f(x)$\")\n",
    "plt.xlabel(\"$x$\")\n",
    "plt.plot()"
   ]
  },
  {
   "cell_type": "code",
   "execution_count": 444,
   "metadata": {},
   "outputs": [
    {
     "data": {
      "text/plain": [
       "[]"
      ]
     },
     "execution_count": 444,
     "metadata": {},
     "output_type": "execute_result"
    },
    {
     "data": {
      "image/png": "[encoded data removed]",
      "text/plain": [
       "<Figure size 432x288 with 1 Axes>"
      ]
     },
     "metadata": {
      "needs_background": "light"
     },
     "output_type": "display_data"
    }
   ],
   "source": [
    "x = np.linspace(-1,9,num=20)\n",
    "pmf = bernoulli_rv.pmf(x) \n",
    "plt.scatter(x, pmf, color=\"blue\" )\n",
    "plt.plot((-1,-1), (0,bernoulli_rv.pmf(0)), color=\"blue\")\n",
    "plt.plot((9,9), (0,bernoulli_rv.pmf(1)), color=\"blue\")\n",
    "plt.ylabel(\"$f(x)$\")\n",
    "plt.xlabel(\"$x$\")\n",
    "plt.plot()"
   ]
  },
  {
   "cell_type": "markdown",
   "metadata": {
    "id": "U-NK9liSbpvb"
   },
   "source": [
    "Предлагается также решить задачу: \n",
    "\n",
    "### Задача 8\n",
    "Брошены две игральные кости. Найти закон распределения случайной величины $X$, равной сумме выпавших очков. Найти вероятности событий ${X <= 4}$, ${X > 4}$"
   ]
  },
  {
   "cell_type": "code",
   "execution_count": 445,
   "metadata": {},
   "outputs": [
    {
     "name": "stdout",
     "output_type": "stream",
     "text": [
      "Вероятность событий X <= 4  0.1656\n",
      "Вероятность событий X > 4  0.8344\n",
      "закон распределения случайной величины 𝑋 \n",
      "     sum     0       P\n",
      "0     2   304  0.0304\n",
      "1     3   514  0.0514\n",
      "2     4   838  0.0838\n",
      "3     5  1166  0.1166\n",
      "4     6  1341  0.1341\n",
      "5     7  1712  0.1712\n",
      "6     8  1384  0.1384\n",
      "7     9  1084  0.1084\n",
      "8    10   848  0.0848\n",
      "9    11   558  0.0558\n",
      "10   12   251  0.0251\n"
     ]
    }
   ],
   "source": [
    "n = 10000\n",
    "V=[]\n",
    "for i in range(n):\n",
    "    V.append(np.random.choice(range(1,7), 2))  \n",
    "df = pd.DataFrame(V)\n",
    "df[\"sum\"] = df.loc[:, :].sum(axis=1)\n",
    "A = (df[df[\"sum\"] <= 4])[\"sum\"].count()/n\n",
    "B = (df[df[\"sum\"] > 4])[\"sum\"].count()/n\n",
    "print(\"Вероятность событий X <= 4 \", A)\n",
    "print(\"Вероятность событий X > 4 \", B)\n",
    "PX = df.groupby([\"sum\"])[0].count().reset_index()\n",
    "PX[\"P\"] = PX[0]/n\n",
    "print(\"закон распределения случайной величины 𝑋 \\n\", PX)"
   ]
  },
  {
   "cell_type": "markdown",
   "metadata": {
    "id": "shgW4D83awjK"
   },
   "source": [
    "## Условные вероятности"
   ]
  },
  {
   "cell_type": "markdown",
   "metadata": {
    "id": "Fbu1RFZwWZrk"
   },
   "source": [
    "### Задача 9\n",
    "Из колоды (36 карт) вынимают последовательно без возвращения две карты. Найти вероятность того, что первой картой была шестерка, а второй — семерка. Найти условную вероятность того же события при условии, что обе карты бубновой масти.\n"
   ]
  },
  {
   "cell_type": "code",
   "execution_count": 446,
   "metadata": {
    "id": "037o56awW9-E"
   },
   "outputs": [
    {
     "name": "stdout",
     "output_type": "stream",
     "text": [
      "вероятность того, что первой картой была шестерка, а второй — семерка равна  0.0138\n",
      "вероятность того, что первой картой была шестерка, а второй  — семерка и обе карты бубновой масти равна  0.0006\n"
     ]
    }
   ],
   "source": [
    "#11 - валет\n",
    "#12 - дама\n",
    "#13 - король\n",
    "#14 - туз\n",
    "cards = ['6', '7', '8', '9', '10', '11', '12', '13', '14']\n",
    "#Diamonds (Бубы / Алмазы)\n",
    "#Hearts (Черви / Сердца)\n",
    "#Clubs (Трефы / Клубы)\n",
    "#Spades (Пики / Лопаты)\n",
    "suits = [\"Diamonds\",\"Hearts\", \"Clubs\", \"Spades\"]\n",
    "V = []\n",
    "for suit in suits:\n",
    "     for card in cards:\n",
    "            B = (suit,card)\n",
    "            V.append(B)     \n",
    "n = 10000\n",
    "dataCard = []\n",
    "for i in range(n):\n",
    "    card1 = random.choice(V) #вынимаем 1 карту\n",
    "    V2 = V.copy()\n",
    "    V2.remove(card1) #убираем 1 карут из выборки (без возвращений)\n",
    "    card2 = random.choice(V2) #вынимаем 2 карту\n",
    "    B = card1 + card2 #запоминаем обе вынутые карты\n",
    "    dataCard.append(B) #добавляем попытку в список\n",
    "df = pd.DataFrame(dataCard)\n",
    "C67 = (df[(df[1] == \"6\") & (df[3]==\"7\")])[0].count()/n\n",
    "print(\"вероятность того, что первой картой была шестерка, а второй — семерка равна \", C67)\n",
    "C67Diamonds = (df[(df[1] == \"6\") & (df[3]==\"7\")& (df[2]== \"Diamonds\")&(df[0]== \"Diamonds\")])[0].count()/n\n",
    "print(\"вероятность того, что первой картой была шестерка, а второй  — семерка и обе карты бубновой масти равна \", C67Diamonds)"
   ]
  },
  {
   "cell_type": "markdown",
   "metadata": {
    "id": "hNVxtaz5c57b"
   },
   "source": [
    "Предлагается также решить задачу: \n",
    "\n",
    "### Задача 10\n",
    "Из урны, содержащей два белых и три черных шара, последовательно извлекают два шара; вынутые шары не возвращаются. Если первый шар оказался черным, то перед вторым извлечением в урну добавляют белый шар. В противном случае состав оставшихся шаров не меняют. Найти вероятности событий:\n",
    "\n",
    "$A$ = {извлечены два белых шара},\n",
    "\n",
    "$B$ = {извлечены два черных шара}\n",
    "\n",
    "Указание. Пусть событие $C_1$ = {первый шар белый}, событие $C_2$ = {второй шар белый}. Тогда $A = C_1C_2$, $B = \\overline C_1 \\overline C_2$ "
   ]
  },
  {
   "cell_type": "code",
   "execution_count": 447,
   "metadata": {
    "id": "WSLnhk2sdBt_"
   },
   "outputs": [
    {
     "name": "stdout",
     "output_type": "stream",
     "text": [
      "Вероятность того, что извлечены два белых шара  0.10048\n",
      "Вероятность того, что извлечены два черных шара  0.24018\n"
     ]
    }
   ],
   "source": [
    "def fill_urn (n_white, n_black=0):\n",
    "    return [\"white\"]*n_white + ['black']*n_black\n",
    "B1 = fill_urn(n_white = 2,n_black=3)\n",
    "n = 100000\n",
    "dataA = []\n",
    "for i in range(n):\n",
    "    #выбираем первый шар\n",
    "    ball1 = random.choice(B1)\n",
    "    if ball1 == 'black': #Если шар черный\n",
    "        B2 = fill_urn(n_white = 3,n_black=2) # добавляем 1 белый шар убираем 1 черный\n",
    "    else:\n",
    "        B2 = fill_urn(n_white = 1,n_black=3) #  убираем 1 белый шар\n",
    "    ball2 = random.choice(B2)\n",
    "    B = [ball1,ball2]\n",
    "    dataA.append(B)\n",
    "df = pd.DataFrame(dataA)\n",
    "df[\"res_white\"] = df.loc[:, :].eq(\"white\").sum(axis=1)\n",
    "A = (df[df[\"res_white\"] == 2])[\"res_white\"].count()/n\n",
    "print(\"Вероятность того, что извлечены два белых шара \", A)\n",
    "B = (df[df[\"res_white\"] == 0])[\"res_white\"].count()/n\n",
    "print(\"Вероятность того, что извлечены два черных шара \", B)"
   ]
  }
 ],
 "metadata": {
  "colab": {
   "collapsed_sections": [],
   "name": "Практика к занятию 11.ipynb",
   "provenance": []
  },
  "kernelspec": {
   "display_name": "Python 3 (ipykernel)",
   "language": "python",
   "name": "python3"
  },
  "language_info": {
   "codemirror_mode": {
    "name": "ipython",
    "version": 3
   },
   "file_extension": ".py",
   "mimetype": "text/x-python",
   "name": "python",
   "nbconvert_exporter": "python",
   "pygments_lexer": "ipython3",
   "version": "3.9.12"
  }
 },
 "nbformat": 4,
 "nbformat_minor": 1
}
